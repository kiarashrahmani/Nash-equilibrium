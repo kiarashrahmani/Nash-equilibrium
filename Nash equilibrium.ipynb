{
 "cells": [
  {
   "cell_type": "markdown",
   "id": "79a065f1",
   "metadata": {},
   "source": [
    "# Nash equilibrium "
   ]
  },
  {
   "cell_type": "markdown",
   "id": "3f3720d5",
   "metadata": {},
   "source": [
    "first we create our matrix using numpy"
   ]
  },
  {
   "cell_type": "code",
   "execution_count": 24,
   "id": "093e4c3c",
   "metadata": {},
   "outputs": [
    {
     "name": "stdout",
     "output_type": "stream",
     "text": [
      "Enter your P1 : 1/2\n",
      "Enter your P2 : 2/3\n"
     ]
    }
   ],
   "source": [
    "from fractions import Fraction\n",
    "\n",
    "input_str_1 = input(\"Enter your P1 : \")\n",
    "input_str_2 = input(\"Enter your P2 : \")\n",
    "\n",
    "try:\n",
    "    p1 = Fraction(input_str_1)\n",
    "    p2 = Fraction(input_str_2)\n",
    "except ValueError:\n",
    "    print(\"Invalid input. Please enter fractions in the format 'numerator/denominator'.\")\n",
    "\n",
    "p2 = Fraction(p2)\n",
    "p1 = Fraction(p1)"
   ]
  },
  {
   "cell_type": "code",
   "execution_count": 3,
   "id": "1901922a",
   "metadata": {},
   "outputs": [],
   "source": [
    "import numpy as np"
   ]
  },
  {
   "cell_type": "code",
   "execution_count": 4,
   "id": "48558247",
   "metadata": {
    "scrolled": true
   },
   "outputs": [
    {
     "name": "stdout",
     "output_type": "stream",
     "text": [
      "Enter element at position (1,1): 2\n",
      "Enter element at position (1,2): 1\n",
      "Enter element at position (1,3): 0\n",
      "Enter element at position (1,4): 0\n",
      "Enter element at position (1,5): 2\n",
      "Enter element at position (1,6): 0\n",
      "Enter element at position (1,7): 0\n",
      "Enter element at position (1,8): 2\n",
      "Enter element at position (2,1): 0\n",
      "Enter element at position (2,2): 0\n",
      "Enter element at position (2,3): 1\n",
      "Enter element at position (2,4): 2\n",
      "Enter element at position (2,5): 0\n",
      "Enter element at position (2,6): 1\n",
      "Enter element at position (2,7): 1\n",
      "Enter element at position (2,8): 0\n",
      "Enter element at position (3,1): 0\n",
      "Enter element at position (3,2): 1\n",
      "Enter element at position (3,3): 2\n",
      "Enter element at position (3,4): 0\n",
      "Enter element at position (3,5): 0\n",
      "Enter element at position (3,6): 0\n",
      "Enter element at position (3,7): 2\n",
      "Enter element at position (3,8): 2\n",
      "Enter element at position (4,1): 1\n",
      "Enter element at position (4,2): 0\n",
      "Enter element at position (4,3): 0\n",
      "Enter element at position (4,4): 2\n",
      "Enter element at position (4,5): 1\n",
      "Enter element at position (4,6): 1\n",
      "Enter element at position (4,7): 0\n",
      "Enter element at position (4,8): 0\n"
     ]
    }
   ],
   "source": [
    "matrix = [[0] * 8 for _ in range(4)]\n",
    "\n",
    "for i in range(4):\n",
    "    for j in range(8):\n",
    "        matrix[i][j] = int(input(f\"Enter element at position ({i+1},{j+1}): \"))"
   ]
  },
  {
   "cell_type": "code",
   "execution_count": 5,
   "id": "0a7fcc29",
   "metadata": {},
   "outputs": [
    {
     "name": "stdout",
     "output_type": "stream",
     "text": [
      "[2, 1, 0, 0, 2, 0, 0, 2]\n",
      "[0, 0, 1, 2, 0, 1, 1, 0]\n",
      "[0, 1, 2, 0, 0, 0, 2, 2]\n",
      "[1, 0, 0, 2, 1, 1, 0, 0]\n"
     ]
    }
   ],
   "source": [
    "for row in matrix:\n",
    "    print(row)"
   ]
  },
  {
   "cell_type": "code",
   "execution_count": 6,
   "id": "0915655e",
   "metadata": {},
   "outputs": [
    {
     "name": "stdout",
     "output_type": "stream",
     "text": [
      "0\n"
     ]
    }
   ],
   "source": [
    "print(matrix[3][7])"
   ]
  },
  {
   "cell_type": "markdown",
   "id": "4535c8c2",
   "metadata": {},
   "source": [
    "then we create our 4 matrices"
   ]
  },
  {
   "cell_type": "markdown",
   "id": "4f7f2c77",
   "metadata": {},
   "source": [
    "## y1 matrix"
   ]
  },
  {
   "cell_type": "code",
   "execution_count": 25,
   "id": "69740d3c",
   "metadata": {
    "scrolled": false
   },
   "outputs": [],
   "source": [
    "# matrix y1\n",
    "y1 = [None] * 8\n",
    "y1[0] = (p1 * matrix[0][0]) + ((1-p1) * matrix[0][4])\n",
    "y1[1] = (p1 * matrix[0][0]) + ((1-p1) * matrix[0][6])\n",
    "y1[2] = (p1 * matrix[0][2]) + ((1-p1) * matrix[0][4])\n",
    "y1[3] = (p1 * matrix[0][2]) + ((1-p1) * matrix[0][6])\n",
    "\n",
    "y1[4] = (p1 * matrix[1][0]) + ((1-p1) * matrix[1][4])\n",
    "y1[5] = (p1 * matrix[1][0]) + ((1-p1) * matrix[1][6])\n",
    "y1[6] = (p1 * matrix[1][2]) + ((1-p1) * matrix[1][4])\n",
    "y1[7] = (p1 * matrix[1][2]) + ((1-p1) * matrix[1][6])\n"
   ]
  },
  {
   "cell_type": "code",
   "execution_count": 26,
   "id": "f8b77c54",
   "metadata": {},
   "outputs": [
    {
     "name": "stdout",
     "output_type": "stream",
     "text": [
      "[Fraction(2, 1), Fraction(1, 1), Fraction(1, 1), Fraction(0, 1), Fraction(0, 1), Fraction(1, 2), Fraction(1, 2), Fraction(1, 1)]\n"
     ]
    }
   ],
   "source": [
    "print (y1)"
   ]
  },
  {
   "cell_type": "markdown",
   "id": "8657dcad",
   "metadata": {},
   "source": [
    "## n1 matrix"
   ]
  },
  {
   "cell_type": "code",
   "execution_count": 27,
   "id": "58d1b220",
   "metadata": {},
   "outputs": [],
   "source": [
    "# matrix n1\n",
    "n1 = [None] * 8\n",
    "n1[0] = (p1 * matrix[2][0]) + ((1-p1) * matrix[2][4])\n",
    "n1[1] = (p1 * matrix[2][0]) + ((1-p1) * matrix[2][6])\n",
    "n1[2] = (p1 * matrix[2][2]) + ((1-p1) * matrix[2][4])\n",
    "n1[3] = (p1 * matrix[2][2]) + ((1-p1) * matrix[2][6])\n",
    "\n",
    "n1[4] = (p1 * matrix[3][0]) + ((1-p1) * matrix[3][4])\n",
    "n1[5] = (p1 * matrix[3][0]) + ((1-p1) * matrix[3][6])\n",
    "n1[6] = (p1 * matrix[3][2]) + ((1-p1) * matrix[3][4])\n",
    "n1[7] = (p1 * matrix[3][2]) + ((1-p1) * matrix[3][6])"
   ]
  },
  {
   "cell_type": "code",
   "execution_count": 28,
   "id": "a0d0857f",
   "metadata": {},
   "outputs": [
    {
     "name": "stdout",
     "output_type": "stream",
     "text": [
      "[Fraction(0, 1), Fraction(1, 1), Fraction(1, 1), Fraction(2, 1), Fraction(1, 1), Fraction(1, 2), Fraction(1, 2), Fraction(0, 1)]\n"
     ]
    }
   ],
   "source": [
    "print (n1)"
   ]
  },
  {
   "cell_type": "markdown",
   "id": "fd44671c",
   "metadata": {},
   "source": [
    "## y2 matrix"
   ]
  },
  {
   "cell_type": "code",
   "execution_count": 29,
   "id": "266e6764",
   "metadata": {},
   "outputs": [],
   "source": [
    "# matrix y2\n",
    "y2 = [None] * 8\n",
    "y2[0] = (p2 * matrix[0][1]) + ((1-p2) * matrix[2][1])\n",
    "y2[1] = (p2 * matrix[0][3]) + ((1-p2) * matrix[2][3])\n",
    "y2[2] = (p2 * matrix[0][1]) + ((1-p2) * matrix[3][1])\n",
    "y2[3] = (p2 * matrix[0][3]) + ((1-p2) * matrix[3][3])\n",
    "\n",
    "y2[4] = (p2 * matrix[1][1]) + ((1-p2) * matrix[2][1])\n",
    "y2[5] = (p2 * matrix[1][3]) + ((1-p2) * matrix[2][3])\n",
    "y2[6] = (p2 * matrix[1][1]) + ((1-p2) * matrix[3][1])\n",
    "y2[7] = (p2 * matrix[1][3]) + ((1-p2) * matrix[3][3])"
   ]
  },
  {
   "cell_type": "code",
   "execution_count": 30,
   "id": "49654a97",
   "metadata": {},
   "outputs": [
    {
     "name": "stdout",
     "output_type": "stream",
     "text": [
      "[Fraction(1, 1), Fraction(0, 1), Fraction(2, 3), Fraction(2, 3), Fraction(1, 3), Fraction(4, 3), Fraction(0, 1), Fraction(2, 1)]\n"
     ]
    }
   ],
   "source": [
    "print (y2)"
   ]
  },
  {
   "cell_type": "markdown",
   "id": "5ae5d80b",
   "metadata": {},
   "source": [
    "## n2 matrix"
   ]
  },
  {
   "cell_type": "code",
   "execution_count": 31,
   "id": "7eea6c14",
   "metadata": {},
   "outputs": [],
   "source": [
    "# matrix n2\n",
    "n2 = [None] * 8\n",
    "n2[0] = (p2 * matrix[0][5]) + ((1-p2) * matrix[2][5])\n",
    "n2[1] = (p2 * matrix[0][7]) + ((1-p2) * matrix[2][7])\n",
    "n2[2] = (p2 * matrix[0][5]) + ((1-p2) * matrix[3][5])\n",
    "n2[3] = (p2 * matrix[0][7]) + ((1-p2) * matrix[3][7])\n",
    "\n",
    "n2[4] = (p2 * matrix[1][5]) + ((1-p2) * matrix[2][5])\n",
    "n2[5] = (p2 * matrix[1][7]) + ((1-p2) * matrix[2][7])\n",
    "n2[6] = (p2 * matrix[1][5]) + ((1-p2) * matrix[3][5])\n",
    "n2[7] = (p2 * matrix[1][7]) + ((1-p2) * matrix[3][7])\n"
   ]
  },
  {
   "cell_type": "code",
   "execution_count": 32,
   "id": "f3d52fe2",
   "metadata": {
    "scrolled": false
   },
   "outputs": [
    {
     "name": "stdout",
     "output_type": "stream",
     "text": [
      "[Fraction(0, 1), Fraction(2, 1), Fraction(1, 3), Fraction(4, 3), Fraction(2, 3), Fraction(2, 3), Fraction(1, 1), Fraction(0, 1)]\n"
     ]
    }
   ],
   "source": [
    "print (n2)"
   ]
  },
  {
   "cell_type": "code",
   "execution_count": 33,
   "id": "34b20c33",
   "metadata": {
    "scrolled": true
   },
   "outputs": [
    {
     "data": {
      "text/plain": [
       "Fraction(4, 3)"
      ]
     },
     "execution_count": 33,
     "metadata": {},
     "output_type": "execute_result"
    }
   ],
   "source": [
    "n2[4]+n2[5]"
   ]
  },
  {
   "cell_type": "markdown",
   "id": "2f3a7f12",
   "metadata": {},
   "source": [
    "## compare values"
   ]
  },
  {
   "cell_type": "code",
   "execution_count": 47,
   "id": "485c6009",
   "metadata": {},
   "outputs": [
    {
     "name": "stdout",
     "output_type": "stream",
     "text": [
      "[('B', 'S'), ('B', 'B'), ('B', 'B'), ('S', 'B')]\n"
     ]
    }
   ],
   "source": [
    "result_list = []\n",
    "\n",
    "\n",
    "for i in range(0, 4):\n",
    "    if y1[i] > y1[i + 4]:\n",
    "        y1_result = \"B\"\n",
    "    elif y1[i] == y1[i + 4]:\n",
    "        y1_result = \"S\"\n",
    "        y2_result = \"B\"\n",
    "    else:\n",
    "        y1_result = \"S\"\n",
    "\n",
    "    if n1[i] > n1[i + 4]:\n",
    "        n1_result = \"B\"\n",
    "    elif n1[i] == n1[i + 4]:\n",
    "        n1_result = \"S\"\n",
    "        n2_result = \"B\"\n",
    "    else:\n",
    "        n1_result = \"S\"\n",
    "        \n",
    "    if y1[i] == y1[i + 4]:\n",
    "        result_list.append((y1_result, n1_result))\n",
    "        result_list.append((y2_result, n1_result))\n",
    "    if n1[i] == n1[i + 4]:\n",
    "        result_list.append((y1_result, n1_result))\n",
    "        result_list.append((y1_result, n2_result))\n",
    "    if y1[i] == y1[i + 4] and n1[i] == n1[i + 4]:\n",
    "        result_list.append((y1_result, n1_result))\n",
    "        result_list.append((y2_result, n1_result))\n",
    "        result_list.append((y1_result, n2_result))\n",
    "        result_list.append((y2_result, n2_result))    \n",
    "    result_list.append((y1_result, n1_result))   \n",
    "        \n",
    "\n",
    "    \n",
    "\n",
    "\n",
    "print(result_list)"
   ]
  },
  {
   "cell_type": "code",
   "execution_count": 40,
   "id": "b276e10f",
   "metadata": {},
   "outputs": [
    {
     "name": "stdout",
     "output_type": "stream",
     "text": [
      "Best response of Player 1 is = [('B', 'B', 'B', 'S'), ('B', 'S', 'B', 'B'), ('S', 'B', 'B', 'B'), ('S', 'S', 'S', 'B')]\n"
     ]
    }
   ],
   "source": [
    "actionsp2 = [('B', 'B'), ('B', 'S'), ('S', 'B'), ('S', 'S')]\n",
    "result_list = [('B', 'S'), ('B', 'B'), ('B', 'B'), ('S', 'B')]\n",
    "\n",
    "\n",
    "bestresponse_p1 = []\n",
    "\n",
    "for result_tuple, action_tuple in zip(result_list, actionsp2):\n",
    "    combined_tuple = action_tuple + result_tuple \n",
    "    bestresponse_p1.append(combined_tuple)\n",
    "\n",
    "# Print the result\n",
    "print(\"Best response of Player 1 is =\",bestresponse_p1)\n"
   ]
  }
 ],
 "metadata": {
  "kernelspec": {
   "display_name": "Python 3 (ipykernel)",
   "language": "python",
   "name": "python3"
  },
  "language_info": {
   "codemirror_mode": {
    "name": "ipython",
    "version": 3
   },
   "file_extension": ".py",
   "mimetype": "text/x-python",
   "name": "python",
   "nbconvert_exporter": "python",
   "pygments_lexer": "ipython3",
   "version": "3.9.17"
  }
 },
 "nbformat": 4,
 "nbformat_minor": 5
}
