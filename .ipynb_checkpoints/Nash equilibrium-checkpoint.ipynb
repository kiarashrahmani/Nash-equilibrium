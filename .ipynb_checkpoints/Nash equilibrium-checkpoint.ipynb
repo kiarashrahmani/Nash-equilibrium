{
 "cells": [
  {
   "cell_type": "markdown",
   "id": "79a065f1",
   "metadata": {},
   "source": [
    "# Nash equilibrium "
   ]
  },
  {
   "cell_type": "markdown",
   "id": "3f3720d5",
   "metadata": {},
   "source": [
    "first we create our matrix using numpy"
   ]
  },
  {
   "cell_type": "code",
   "execution_count": 2,
   "id": "f4733927",
   "metadata": {},
   "outputs": [
    {
     "name": "stdout",
     "output_type": "stream",
     "text": [
      "enter your P1:0.5\n",
      "enter your P2:0.67\n"
     ]
    }
   ],
   "source": [
    "p1=float(input(\"enter your P1:\"))\n",
    "p2=float(input(\"enter your P2:\"))"
   ]
  },
  {
   "cell_type": "code",
   "execution_count": 3,
   "id": "1901922a",
   "metadata": {},
   "outputs": [],
   "source": [
    "import numpy as np"
   ]
  },
  {
   "cell_type": "code",
   "execution_count": 22,
   "id": "48558247",
   "metadata": {
    "scrolled": true
   },
   "outputs": [
    {
     "name": "stdout",
     "output_type": "stream",
     "text": [
      "Enter element at position (1,1): 2\n",
      "Enter element at position (1,2): 1\n",
      "Enter element at position (1,3): 0\n",
      "Enter element at position (1,4): 0\n",
      "Enter element at position (1,5): 2\n",
      "Enter element at position (1,6): 0\n",
      "Enter element at position (1,7): 0\n",
      "Enter element at position (1,8): 2\n",
      "Enter element at position (2,1): 0\n",
      "Enter element at position (2,2): 0\n",
      "Enter element at position (2,3): 1\n",
      "Enter element at position (2,4): 2\n",
      "Enter element at position (2,5): 0\n",
      "Enter element at position (2,6): 1\n",
      "Enter element at position (2,7): 1\n",
      "Enter element at position (2,8): 0\n",
      "Enter element at position (3,1): 0\n",
      "Enter element at position (3,2): 1\n",
      "Enter element at position (3,3): 2\n",
      "Enter element at position (3,4): 0\n",
      "Enter element at position (3,5): 0\n",
      "Enter element at position (3,6): 0\n",
      "Enter element at position (3,7): 2\n",
      "Enter element at position (3,8): 2\n",
      "Enter element at position (4,1): 1\n",
      "Enter element at position (4,2): 0\n",
      "Enter element at position (4,3): 0\n",
      "Enter element at position (4,4): 2\n",
      "Enter element at position (4,5): 1\n",
      "Enter element at position (4,6): 1\n",
      "Enter element at position (4,7): 0\n",
      "Enter element at position (4,8): 0\n"
     ]
    }
   ],
   "source": [
    "matrix = [[0] * 8 for _ in range(4)]\n",
    "\n",
    "for i in range(4):\n",
    "    for j in range(8):\n",
    "        matrix[i][j] = int(input(f\"Enter element at position ({i+1},{j+1}): \"))"
   ]
  },
  {
   "cell_type": "code",
   "execution_count": 23,
   "id": "0a7fcc29",
   "metadata": {},
   "outputs": [
    {
     "name": "stdout",
     "output_type": "stream",
     "text": [
      "[2, 1, 0, 0, 2, 0, 0, 2]\n",
      "[0, 0, 1, 2, 0, 1, 1, 0]\n",
      "[0, 1, 2, 0, 0, 0, 2, 2]\n",
      "[1, 0, 0, 2, 1, 1, 0, 0]\n"
     ]
    }
   ],
   "source": [
    "for row in matrix:\n",
    "    print(row)"
   ]
  },
  {
   "cell_type": "code",
   "execution_count": 24,
   "id": "0915655e",
   "metadata": {},
   "outputs": [
    {
     "name": "stdout",
     "output_type": "stream",
     "text": [
      "0\n"
     ]
    }
   ],
   "source": [
    "print(matrix[3][7])"
   ]
  },
  {
   "cell_type": "markdown",
   "id": "4535c8c2",
   "metadata": {},
   "source": [
    "then we create our 4 matrices"
   ]
  },
  {
   "cell_type": "markdown",
   "id": "4f7f2c77",
   "metadata": {},
   "source": [
    "## y1 matrix"
   ]
  },
  {
   "cell_type": "code",
   "execution_count": 25,
   "id": "69740d3c",
   "metadata": {
    "scrolled": false
   },
   "outputs": [],
   "source": [
    "# matrix y1\n",
    "y1 = [None] * 8\n",
    "y1[0] = (p1 * matrix[0][0]) + ((1-p1) * matrix[0][4])\n",
    "y1[1] = (p1 * matrix[0][0]) + ((1-p1) * matrix[0][6])\n",
    "y1[2] = (p1 * matrix[0][2]) + ((1-p1) * matrix[0][4])\n",
    "y1[3] = (p1 * matrix[0][2]) + ((1-p1) * matrix[0][6])\n",
    "\n",
    "y1[4] = (p1 * matrix[1][0]) + ((1-p1) * matrix[1][4])\n",
    "y1[5] = (p1 * matrix[1][0]) + ((1-p1) * matrix[1][6])\n",
    "y1[6] = (p1 * matrix[1][2]) + ((1-p1) * matrix[1][4])\n",
    "y1[7] = (p1 * matrix[1][2]) + ((1-p1) * matrix[1][6])\n"
   ]
  },
  {
   "cell_type": "code",
   "execution_count": 26,
   "id": "f8b77c54",
   "metadata": {},
   "outputs": [
    {
     "name": "stdout",
     "output_type": "stream",
     "text": [
      "[2.0, 1.0, 1.0, 0.0, 0.0, 0.5, 0.5, 1.0]\n"
     ]
    }
   ],
   "source": [
    "print (y1)"
   ]
  },
  {
   "cell_type": "markdown",
   "id": "8657dcad",
   "metadata": {},
   "source": [
    "## n1 matrix"
   ]
  },
  {
   "cell_type": "code",
   "execution_count": 27,
   "id": "58d1b220",
   "metadata": {},
   "outputs": [],
   "source": [
    "# matrix n1\n",
    "n1 = [None] * 8\n",
    "n1[0] = (p1 * matrix[2][0]) + ((1-p1) * matrix[2][4])\n",
    "n1[1] = (p1 * matrix[2][0]) + ((1-p1) * matrix[2][6])\n",
    "n1[2] = (p1 * matrix[2][2]) + ((1-p1) * matrix[2][4])\n",
    "n1[3] = (p1 * matrix[2][2]) + ((1-p1) * matrix[2][6])\n",
    "\n",
    "n1[4] = (p1 * matrix[3][0]) + ((1-p1) * matrix[3][4])\n",
    "n1[5] = (p1 * matrix[3][0]) + ((1-p1) * matrix[3][6])\n",
    "n1[6] = (p1 * matrix[3][2]) + ((1-p1) * matrix[3][4])\n",
    "n1[7] = (p1 * matrix[3][2]) + ((1-p1) * matrix[3][6])"
   ]
  },
  {
   "cell_type": "code",
   "execution_count": 28,
   "id": "a0d0857f",
   "metadata": {},
   "outputs": [
    {
     "name": "stdout",
     "output_type": "stream",
     "text": [
      "[0.0, 1.0, 1.0, 2.0, 1.0, 0.5, 0.5, 0.0]\n"
     ]
    }
   ],
   "source": [
    "print (n1)"
   ]
  },
  {
   "cell_type": "markdown",
   "id": "fd44671c",
   "metadata": {},
   "source": [
    "## y2 matrix"
   ]
  },
  {
   "cell_type": "code",
   "execution_count": 29,
   "id": "266e6764",
   "metadata": {},
   "outputs": [],
   "source": [
    "# matrix y2\n",
    "y2 = [None] * 8\n",
    "y2[0] = (p2 * matrix[0][1]) + ((1-p2) * matrix[2][1])\n",
    "y2[1] = (p2 * matrix[0][3]) + ((1-p2) * matrix[2][3])\n",
    "y2[2] = (p2 * matrix[0][1]) + ((1-p2) * matrix[3][1])\n",
    "y2[3] = (p2 * matrix[0][3]) + ((1-p2) * matrix[3][3])\n",
    "\n",
    "y2[4] = (p2 * matrix[1][1]) + ((1-p2) * matrix[2][1])\n",
    "y2[5] = (p2 * matrix[1][3]) + ((1-p2) * matrix[2][3])\n",
    "y2[6] = (p2 * matrix[1][1]) + ((1-p2) * matrix[3][1])\n",
    "y2[7] = (p2 * matrix[1][3]) + ((1-p2) * matrix[3][3])"
   ]
  },
  {
   "cell_type": "code",
   "execution_count": 30,
   "id": "49654a97",
   "metadata": {},
   "outputs": [
    {
     "name": "stdout",
     "output_type": "stream",
     "text": [
      "[1.0, 0.0, 0.67, 0.6599999999999999, 0.32999999999999996, 1.34, 0.0, 2.0]\n"
     ]
    }
   ],
   "source": [
    "print (y2)"
   ]
  },
  {
   "cell_type": "markdown",
   "id": "5ae5d80b",
   "metadata": {},
   "source": [
    "## n2 matrix"
   ]
  },
  {
   "cell_type": "code",
   "execution_count": 31,
   "id": "7eea6c14",
   "metadata": {},
   "outputs": [],
   "source": [
    "# matrix n2\n",
    "n2 = [None] * 8\n",
    "n2[0] = (p2 * matrix[0][5]) + ((1-p2) * matrix[2][5])\n",
    "n2[1] = (p2 * matrix[0][7]) + ((1-p2) * matrix[2][7])\n",
    "n2[2] = (p2 * matrix[0][5]) + ((1-p2) * matrix[3][5])\n",
    "n2[3] = (p2 * matrix[0][7]) + ((1-p2) * matrix[3][7])\n",
    "\n",
    "n2[4] = (p2 * matrix[1][5]) + ((1-p2) * matrix[2][5])\n",
    "n2[5] = (p2 * matrix[1][7]) + ((1-p2) * matrix[2][7])\n",
    "n2[6] = (p2 * matrix[1][5]) + ((1-p2) * matrix[3][5])\n",
    "n2[7] = (p2 * matrix[1][7]) + ((1-p2) * matrix[3][7])"
   ]
  },
  {
   "cell_type": "code",
   "execution_count": 32,
   "id": "f3d52fe2",
   "metadata": {},
   "outputs": [
    {
     "name": "stdout",
     "output_type": "stream",
     "text": [
      "[0.0, 2.0, 0.32999999999999996, 1.34, 0.67, 0.6599999999999999, 1.0, 0.0]\n"
     ]
    }
   ],
   "source": [
    "print (n2)"
   ]
  }
 ],
 "metadata": {
  "kernelspec": {
   "display_name": "Python 3 (ipykernel)",
   "language": "python",
   "name": "python3"
  },
  "language_info": {
   "codemirror_mode": {
    "name": "ipython",
    "version": 3
   },
   "file_extension": ".py",
   "mimetype": "text/x-python",
   "name": "python",
   "nbconvert_exporter": "python",
   "pygments_lexer": "ipython3",
   "version": "3.9.17"
  }
 },
 "nbformat": 4,
 "nbformat_minor": 5
}
